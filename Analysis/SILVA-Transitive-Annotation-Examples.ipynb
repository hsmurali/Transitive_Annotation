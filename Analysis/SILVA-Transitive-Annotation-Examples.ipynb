{
 "cells": [
  {
   "cell_type": "code",
   "execution_count": 1,
   "metadata": {},
   "outputs": [],
   "source": [
    "import numpy as np\n",
    "import pandas as pd\n",
    "\n",
    "def split(s):\n",
    "    try:\n",
    "        splits = s.split('_')\n",
    "        if len(splits) == 2:\n",
    "            return pd.Series({'Genus_A':splits[0], 'Genus_B':splits[1]})\n",
    "        else:\n",
    "            if \"Peptostreptococcaceae_incertae_sedis\" in s:\n",
    "                if s.startswith(\"Peptostreptococcaceae_incertae_sedis\"):\n",
    "                    return pd.Series({'Genus_A':\"Peptostreptococcaceae_incertae_sedis\", \n",
    "                                      'Genus_B':s.replace(\"Peptostreptococcaceae_incertae_sedis\",\"\")[1:]})\n",
    "                else:\n",
    "                    return pd.Series({'Genus_B':\"Peptostreptococcaceae_incertae_sedis\", \n",
    "                                      'Genus_A':s.replace(\"Peptostreptococcaceae_incertae_sedis\",\"\")[:-1]})\n",
    "            if \"Lachnospiracea_incertae_sedis\" in s:\n",
    "                if s.startswith(\"Lachnospiracea_incertae_sedis\"):\n",
    "                    return pd.Series({'Genus_A':\"Lachnospiracea_incertae_sedis\", \n",
    "                                      'Genus_B':s.replace(\"Lachnospiracea_incertae_sedis\",\"\")[1:]})\n",
    "                else:\n",
    "                    return pd.Series({'Genus_B':\"Lachnospiracea_incertae_sedis\", \n",
    "                                      'Genus_A':s.replace(\"Lachnospiracea_incertae_sedis\",\"\")[:-1]})    \n",
    "    except:\n",
    "        print(\"here\")\n",
    "        return None\n",
    "    \n",
    "df_summary = pd.read_csv('/Users/harihara/Mount-2/projects/RDP_Outlier_Analysis/\\\n",
    "16S_SILVA_Experimentally_Validated_Strains_Full_DB/Label_Changes.SILVA_Short.Summary', sep = \"\\t\")\n",
    "seq_path = '/Users/harihara/Mount-2/projects/RDP_Outlier_Analysis/\\\n",
    "16S_SILVA_Experimentally_Validated_Strains_Full_DB/Labelled_16S_Sequences.fasta'\n",
    "SILVA_taxa = {}\n",
    "for l in open(seq_path).readlines():\n",
    "    if l.startswith('>'):\n",
    "        l = l.replace(\">\",\"\").replace(\"\\n\",\"\")\n",
    "        seq_id = l.split(' ')[0].split(\".\")[0]\n",
    "        try: taxa = l.split(' ')[1].split(\";\")[5]\n",
    "        except IndexError: taxa = \"\"\n",
    "        SILVA_taxa[seq_id] = taxa\n",
    "df_SILVA_taxa = pd.DataFrame(data = {'Seq_ID':SILVA_taxa.keys(), 'Genus':SILVA_taxa.values()})\n"
   ]
  },
  {
   "cell_type": "code",
   "execution_count": 2,
   "metadata": {},
   "outputs": [],
   "source": [
    "df_merged = df_summary.merge(df_SILVA_taxa, left_on = 'Accession', \n",
    "                             right_on = 'Seq_ID', how = 'left')\\\n",
    "                      .drop(columns = ['Seq_ID'])\\\n",
    "                      .rename(columns = {'Genus':'Genus_Query(SILVA)'})\n",
    "df_merged = df_merged.merge(df_SILVA_taxa, left_on = 'GA', \n",
    "                            right_on = 'Seq_ID', how = 'left')\\\n",
    "                     .drop(columns = ['Seq_ID'])\\\n",
    "                     .rename(columns = {'Genus':'Genus_A(SILVA)'})\n",
    "df_merged = df_merged.merge(df_SILVA_taxa, left_on = 'GB', \n",
    "                            right_on = 'Seq_ID', how = 'left')\\\n",
    "                     .drop(columns = ['Seq_ID'])\\\n",
    "                     .rename(columns = {'Genus':'Genus_B(SILVA)'})\n",
    "\n",
    "df_merged[['Genus_A','Genus_B']] = df_merged['File'].apply(split)"
   ]
  },
  {
   "cell_type": "code",
   "execution_count": 3,
   "metadata": {},
   "outputs": [],
   "source": [
    "df_filter = df_merged[(df_merged['Genus_Query(SILVA)'] == df_merged['G-WO_ADV'])&\n",
    "                      (df_merged['Genus_A(SILVA)'] == df_merged['Genus_A'])&\n",
    "                      (df_merged['Genus_B(SILVA)'] == df_merged['Genus_B'])]"
   ]
  },
  {
   "cell_type": "code",
   "execution_count": 4,
   "metadata": {},
   "outputs": [
    {
     "data": {
      "text/plain": [
       "[('Actinomadura', 'Actinoallomurus'),\n",
       " ('Afipia', 'Bradyrhizobium'),\n",
       " ('Afipia', 'Rhodopseudomonas'),\n",
       " ('Alkalispirillum', 'Alkalilimnicola'),\n",
       " ('Aquamicrobium', 'Pseudaminobacter'),\n",
       " ('Bradyrhizobium', 'Rhodopseudomonas'),\n",
       " ('Chryseoglobus', 'Microcella'),\n",
       " ('Citrobacter', 'Enterobacter'),\n",
       " ('Citrobacter', 'Klebsiella'),\n",
       " ('Citrobacter', 'Salmonella'),\n",
       " ('Colwellia', 'Thalassotalea'),\n",
       " ('Coprococcus', 'Mediterraneibacter'),\n",
       " ('Cronobacter', 'Buttiauxella'),\n",
       " ('Cronobacter', 'Klebsiella'),\n",
       " ('Cronobacter', 'Raoultella'),\n",
       " ('Cronobacter', 'Shimwellia'),\n",
       " ('Enterobacter', 'Leclercia'),\n",
       " ('Enterobacter', 'Raoultella'),\n",
       " ('Frigidibacter', 'Defluviimonas'),\n",
       " ('Halomonas', 'Chromohalobacter'),\n",
       " ('Halovarius', 'Natribaculum'),\n",
       " ('Humibacillus', 'Terrabacter'),\n",
       " ('Intestinibacter', 'Terrisporobacter'),\n",
       " ('Jannaschia', 'Leisingera'),\n",
       " ('Methyloterrigena', 'Paradevosia'),\n",
       " ('Microbacterium', 'Rathayibacter'),\n",
       " ('Nguyenibacter', 'Gluconacetobacter'),\n",
       " ('Paradevosia', 'Methyloterrigena'),\n",
       " ('Starkeya', 'Ancylobacter'),\n",
       " ('Streptomyces', 'Prauserella'),\n",
       " ('Tardiphaga', 'Afipia'),\n",
       " ('Thalassobius', 'Shimia')]"
      ]
     },
     "execution_count": 4,
     "metadata": {},
     "output_type": "execute_result"
    }
   ],
   "source": [
    "sorted(list(set(list(zip(df_filter['G-WO_ADV'].tolist(), df_filter['G-ADV'].tolist())))))"
   ]
  },
  {
   "cell_type": "code",
   "execution_count": 71,
   "metadata": {},
   "outputs": [
    {
     "data": {
      "text/plain": [
       "1014"
      ]
     },
     "execution_count": 71,
     "metadata": {},
     "output_type": "execute_result"
    }
   ],
   "source": [
    "len(df_filter)"
   ]
  },
  {
   "cell_type": "code",
   "execution_count": 72,
   "metadata": {},
   "outputs": [
    {
     "data": {
      "text/plain": [
       "2599"
      ]
     },
     "execution_count": 72,
     "metadata": {},
     "output_type": "execute_result"
    }
   ],
   "source": [
    "len(df_merged)"
   ]
  },
  {
   "cell_type": "code",
   "execution_count": 6,
   "metadata": {},
   "outputs": [
    {
     "data": {
      "text/plain": [
       "53"
      ]
     },
     "execution_count": 6,
     "metadata": {},
     "output_type": "execute_result"
    }
   ],
   "source": [
    "len(df_filter['Accession'].unique())"
   ]
  },
  {
   "cell_type": "code",
   "execution_count": 9,
   "metadata": {},
   "outputs": [
    {
     "data": {
      "text/plain": [
       "233"
      ]
     },
     "execution_count": 9,
     "metadata": {},
     "output_type": "execute_result"
    }
   ],
   "source": [
    "len(set(df_filter['GA'].tolist() + df_filter['GB'].tolist()))"
   ]
  },
  {
   "cell_type": "code",
   "execution_count": 22,
   "metadata": {},
   "outputs": [
    {
     "data": {
      "text/plain": [
       "564"
      ]
     },
     "execution_count": 22,
     "metadata": {},
     "output_type": "execute_result"
    }
   ],
   "source": [
    "len(set(df_merged['GA'].tolist() + df_merged['GB'].tolist()))"
   ]
  },
  {
   "cell_type": "code",
   "execution_count": 13,
   "metadata": {},
   "outputs": [
    {
     "data": {
      "text/plain": [
       "107"
      ]
     },
     "execution_count": 13,
     "metadata": {},
     "output_type": "execute_result"
    }
   ],
   "source": [
    "len(df_merged['Accession'].unique())"
   ]
  },
  {
   "cell_type": "code",
   "execution_count": 18,
   "metadata": {},
   "outputs": [],
   "source": [
    "df_merged['Y'] = df_merged['GA']+'_'+df_merged['GA']"
   ]
  },
  {
   "cell_type": "code",
   "execution_count": 21,
   "metadata": {},
   "outputs": [
    {
     "data": {
      "text/plain": [
       "248"
      ]
     },
     "execution_count": 21,
     "metadata": {},
     "output_type": "execute_result"
    }
   ],
   "source": [
    "len(df_merged['Y'].unique())"
   ]
  },
  {
   "cell_type": "code",
   "execution_count": 23,
   "metadata": {},
   "outputs": [
    {
     "data": {
      "text/plain": [
       "496"
      ]
     },
     "execution_count": 23,
     "metadata": {},
     "output_type": "execute_result"
    }
   ],
   "source": [
    "248*2"
   ]
  },
  {
   "cell_type": "code",
   "execution_count": 29,
   "metadata": {},
   "outputs": [
    {
     "data": {
      "text/html": [
       "<div>\n",
       "<style scoped>\n",
       "    .dataframe tbody tr th:only-of-type {\n",
       "        vertical-align: middle;\n",
       "    }\n",
       "\n",
       "    .dataframe tbody tr th {\n",
       "        vertical-align: top;\n",
       "    }\n",
       "\n",
       "    .dataframe thead th {\n",
       "        text-align: right;\n",
       "    }\n",
       "</style>\n",
       "<table border=\"1\" class=\"dataframe\">\n",
       "  <thead>\n",
       "    <tr style=\"text-align: right;\">\n",
       "      <th></th>\n",
       "      <th>Accession</th>\n",
       "      <th>Seq-ID</th>\n",
       "      <th>G-ADV</th>\n",
       "      <th>G-WO_ADV</th>\n",
       "      <th>File</th>\n",
       "      <th>GA</th>\n",
       "      <th>GB</th>\n",
       "      <th>Genus_Query(SILVA)</th>\n",
       "      <th>Genus_A(SILVA)</th>\n",
       "      <th>Genus_B(SILVA)</th>\n",
       "      <th>Genus_A</th>\n",
       "      <th>Genus_B</th>\n",
       "    </tr>\n",
       "  </thead>\n",
       "  <tbody>\n",
       "    <tr>\n",
       "      <th>1770</th>\n",
       "      <td>HQ286045</td>\n",
       "      <td>HQ286045.1.1528</td>\n",
       "      <td>Prauserella</td>\n",
       "      <td>Streptomyces</td>\n",
       "      <td>Prauserella_Amycolatopsis</td>\n",
       "      <td>AF466190</td>\n",
       "      <td>AJ252832</td>\n",
       "      <td>Streptomyces</td>\n",
       "      <td>Prauserella</td>\n",
       "      <td>Amycolatopsis</td>\n",
       "      <td>Prauserella</td>\n",
       "      <td>Amycolatopsis</td>\n",
       "    </tr>\n",
       "    <tr>\n",
       "      <th>1771</th>\n",
       "      <td>HQ286045</td>\n",
       "      <td>HQ286045.1.1528</td>\n",
       "      <td>Prauserella</td>\n",
       "      <td>Streptomyces</td>\n",
       "      <td>Prauserella_Amycolatopsis</td>\n",
       "      <td>AF466190</td>\n",
       "      <td>CP002896</td>\n",
       "      <td>Streptomyces</td>\n",
       "      <td>Prauserella</td>\n",
       "      <td>Amycolatopsis</td>\n",
       "      <td>Prauserella</td>\n",
       "      <td>Amycolatopsis</td>\n",
       "    </tr>\n",
       "  </tbody>\n",
       "</table>\n",
       "</div>"
      ],
      "text/plain": [
       "     Accession           Seq-ID        G-ADV      G-WO_ADV  \\\n",
       "1770  HQ286045  HQ286045.1.1528  Prauserella  Streptomyces   \n",
       "1771  HQ286045  HQ286045.1.1528  Prauserella  Streptomyces   \n",
       "\n",
       "                           File        GA        GB Genus_Query(SILVA)  \\\n",
       "1770  Prauserella_Amycolatopsis  AF466190  AJ252832       Streptomyces   \n",
       "1771  Prauserella_Amycolatopsis  AF466190  CP002896       Streptomyces   \n",
       "\n",
       "     Genus_A(SILVA) Genus_B(SILVA)      Genus_A        Genus_B  \n",
       "1770    Prauserella  Amycolatopsis  Prauserella  Amycolatopsis  \n",
       "1771    Prauserella  Amycolatopsis  Prauserella  Amycolatopsis  "
      ]
     },
     "execution_count": 29,
     "metadata": {},
     "output_type": "execute_result"
    }
   ],
   "source": [
    "df_filter[df_filter['Genus_Query(SILVA)'] == 'Streptomyces']"
   ]
  },
  {
   "cell_type": "code",
   "execution_count": 26,
   "metadata": {},
   "outputs": [
    {
     "data": {
      "text/plain": [
       "array(['Actinomadura', 'Afipia', 'Tardiphaga', 'Alkalispirillum',\n",
       "       'Starkeya', 'Cronobacter', 'Halomonas', 'Chryseoglobus',\n",
       "       'Citrobacter', 'Coprococcus', 'Frigidibacter', 'Enterobacter',\n",
       "       'Nguyenibacter', 'Jannaschia', 'Paradevosia', 'Halovarius',\n",
       "       'Methyloterrigena', 'Streptomyces', 'Aquamicrobium',\n",
       "       'Microbacterium', 'Bradyrhizobium', 'Humibacillus',\n",
       "       'Intestinibacter', 'Thalassobius', 'Colwellia'], dtype=object)"
      ]
     },
     "execution_count": 26,
     "metadata": {},
     "output_type": "execute_result"
    }
   ],
   "source": [
    "df_filter['Genus_Query(SILVA)'].unique()"
   ]
  },
  {
   "cell_type": "code",
   "execution_count": null,
   "metadata": {},
   "outputs": [],
   "source": []
  }
 ],
 "metadata": {
  "kernelspec": {
   "display_name": "Python 3",
   "language": "python",
   "name": "python3"
  },
  "language_info": {
   "codemirror_mode": {
    "name": "ipython",
    "version": 3
   },
   "file_extension": ".py",
   "mimetype": "text/x-python",
   "name": "python",
   "nbconvert_exporter": "python",
   "pygments_lexer": "ipython3",
   "version": "3.7.3"
  }
 },
 "nbformat": 4,
 "nbformat_minor": 2
}
