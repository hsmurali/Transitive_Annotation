{
 "cells": [
  {
   "cell_type": "code",
   "execution_count": 13,
   "metadata": {},
   "outputs": [],
   "source": [
    "from Mount.RDP_Outlier_Analysis.src.Transitive_Annotation_Utils import *\n",
    "\n",
    "def Summarize_Label_Flips(df_wo_adv, df_adv, label_Adversarial_Seq, label):\n",
    "    df_adv = df_adv[['genus']].rename(columns = {'genus':'G-ADV'})\n",
    "    df_adv = df_adv.join(df_wo_adv)\n",
    "    df_filter = df_adv.loc[(df_adv['G-ADV']!=label) & (df_adv['G-WO_ADV']==label)]\n",
    "    df_filter['Label of Artificial Sequence'] = label_Adversarial_Seq\n",
    "    return df_filter.reset_index()\n",
    "\n",
    "def Summarize_Label_Flips_Driver(data_dir, df_wo_adv, label = 'Dorea', cutoff = 100):\n",
    "    lines = open(data_dir+'summary').readlines()\n",
    "    summary = []\n",
    "    for d in lines:\n",
    "        try: summary.append(eval(d.replace(' nan','-1')))\n",
    "        except NameError: pass\n",
    "    df_summary = pd.DataFrame(summary)\n",
    "    artificial_sequences = df_summary['SeqID'].tolist()\n",
    "    out = pd.DataFrame()\n",
    "    \n",
    "    for i in range(0, cutoff):\n",
    "        f = data_dir+'Adverserial_Trained_'+artificial_sequences[i]+'.tax.out'\n",
    "        print(i, f)\n",
    "        label_artificial_seq = artificial_sequences[i].split(\"-\")[-2]\n",
    "        df_adv = Parse_RDP_Output(f)\n",
    "        df_sel = Summarize_Label_Flips(df_wo_adv, df_adv, label_artificial_seq, label)\n",
    "        df_sel['Num_Artificial_Sequences'] = i+1\n",
    "        out = out.append(df_sel, ignore_index = True)\n",
    "        print(\"=================================================================\")\n",
    "    return out"
   ]
  },
  {
   "cell_type": "code",
   "execution_count": 3,
   "metadata": {},
   "outputs": [],
   "source": [
    "df_wo_adv = Parse_RDP_Output('Mount-2/projects/RDP_Outlier_Analysis/Gates_Dataset_Experiments/All3000.final.centers.out')\n",
    "df_wo_adv = df_wo_adv[['genus']].rename(columns = {'genus':'G-WO_ADV'})"
   ]
  },
  {
   "cell_type": "code",
   "execution_count": 14,
   "metadata": {
    "scrolled": true
   },
   "outputs": [
    {
     "name": "stdout",
     "output_type": "stream",
     "text": [
      "0 Mount-2/projects/RDP_Outlier_Analysis/RDP_Sensitivity_Analysis/Obfuscating_Taxa/Dorea/Adverserial_Trained_2574_1536_3132_5806-seq216_p=8_d=11_pos=497-Mediterraneibacter-Dorea.tax.out\n"
     ]
    },
    {
     "name": "stderr",
     "output_type": "stream",
     "text": [
      "/Users/harihara/anaconda3/lib/python3.7/site-packages/ipykernel_launcher.py:7: SettingWithCopyWarning: \n",
      "A value is trying to be set on a copy of a slice from a DataFrame.\n",
      "Try using .loc[row_indexer,col_indexer] = value instead\n",
      "\n",
      "See the caveats in the documentation: https://pandas.pydata.org/pandas-docs/stable/user_guide/indexing.html#returning-a-view-versus-a-copy\n",
      "  import sys\n"
     ]
    },
    {
     "name": "stdout",
     "output_type": "stream",
     "text": [
      "=================================================================\n",
      "1 Mount-2/projects/RDP_Outlier_Analysis/RDP_Sensitivity_Analysis/Obfuscating_Taxa/Dorea/Adverserial_Trained_3368_3041_3531_803-seq12_p=1_d=10_pos=448-Mediterraneibacter-Dorea.tax.out\n",
      "=================================================================\n",
      "2 Mount-2/projects/RDP_Outlier_Analysis/RDP_Sensitivity_Analysis/Obfuscating_Taxa/Dorea/Adverserial_Trained_2574_1536_5236_1687-seq96_p=4_d=10_pos=99-Mediterraneibacter-Dorea.tax.out\n",
      "=================================================================\n",
      "3 Mount-2/projects/RDP_Outlier_Analysis/RDP_Sensitivity_Analysis/Obfuscating_Taxa/Dorea/Adverserial_Trained_2574_1536_3531_803-seq269_p=9_d=11_pos=425-Mediterraneibacter-Dorea.tax.out\n",
      "=================================================================\n",
      "4 Mount-2/projects/RDP_Outlier_Analysis/RDP_Sensitivity_Analysis/Obfuscating_Taxa/Dorea/Adverserial_Trained_2574_1536_4814_2434-seq309_p=10_d=10_pos=446-Mediterraneibacter-Dorea.tax.out\n",
      "=================================================================\n",
      "5 Mount-2/projects/RDP_Outlier_Analysis/RDP_Sensitivity_Analysis/Obfuscating_Taxa/Dorea/Adverserial_Trained_3368_3041_7327_457-seq229_p=8_d=10_pos=322-Mediterraneibacter-Dorea.tax.out\n",
      "=================================================================\n",
      "6 Mount-2/projects/RDP_Outlier_Analysis/RDP_Sensitivity_Analysis/Obfuscating_Taxa/Dorea/Adverserial_Trained_2574_1536_901_1067-seq95_p=4_d=9_pos=102-Mediterraneibacter-Dorea.tax.out\n",
      "=================================================================\n",
      "7 Mount-2/projects/RDP_Outlier_Analysis/RDP_Sensitivity_Analysis/Obfuscating_Taxa/Dorea/Adverserial_Trained_4825_419_4814_2434-seq46_p=2_d=12_pos=449-Mediterraneibacter-Dorea.tax.out\n",
      "=================================================================\n",
      "8 Mount-2/projects/RDP_Outlier_Analysis/RDP_Sensitivity_Analysis/Obfuscating_Taxa/Dorea/Adverserial_Trained_4825_419_901_1067-seq156_p=5_d=14_pos=412-Mediterraneibacter-Dorea.tax.out\n",
      "=================================================================\n",
      "9 Mount-2/projects/RDP_Outlier_Analysis/RDP_Sensitivity_Analysis/Obfuscating_Taxa/Dorea/Adverserial_Trained_3368_3041_4814_2434-seq12_p=1_d=10_pos=450-Mediterraneibacter-Dorea.tax.out\n",
      "=================================================================\n",
      "10 Mount-2/projects/RDP_Outlier_Analysis/RDP_Sensitivity_Analysis/Obfuscating_Taxa/Dorea/Adverserial_Trained_3368_3041_901_1067-seq225_p=8_d=13_pos=77-Mediterraneibacter-Dorea.tax.out\n",
      "=================================================================\n",
      "11 Mount-2/projects/RDP_Outlier_Analysis/RDP_Sensitivity_Analysis/Obfuscating_Taxa/Dorea/Adverserial_Trained_4825_419_3531_803-seq110_p=4_d=9_pos=307-Mediterraneibacter-Dorea.tax.out\n",
      "=================================================================\n",
      "12 Mount-2/projects/RDP_Outlier_Analysis/RDP_Sensitivity_Analysis/Obfuscating_Taxa/Dorea/Adverserial_Trained_2574_1536_7327_457-seq124_p=4_d=17_pos=427-Mediterraneibacter-Dorea.tax.out\n",
      "=================================================================\n",
      "13 Mount-2/projects/RDP_Outlier_Analysis/RDP_Sensitivity_Analysis/Obfuscating_Taxa/Dorea/Adverserial_Trained_4825_419_3132_5806-seq125_p=4_d=15_pos=435-Mediterraneibacter-Dorea.tax.out\n",
      "=================================================================\n",
      "14 Mount-2/projects/RDP_Outlier_Analysis/RDP_Sensitivity_Analysis/Obfuscating_Taxa/Dorea/Adverserial_Trained_3368_3041_3132_5806-seq76_p=3_d=14_pos=516-Mediterraneibacter-Dorea.tax.out\n",
      "=================================================================\n",
      "15 Mount-2/projects/RDP_Outlier_Analysis/RDP_Sensitivity_Analysis/Obfuscating_Taxa/Dorea/Adverserial_Trained_4825_419_7327_457-seq15_p=1_d=13_pos=515-Mediterraneibacter-Dorea.tax.out\n",
      "=================================================================\n",
      "16 Mount-2/projects/RDP_Outlier_Analysis/RDP_Sensitivity_Analysis/Obfuscating_Taxa/Dorea/Adverserial_Trained_4169_2309_4814_2434-seq74_p=3_d=10_pos=103-Ruminococcus2-Dorea.tax.out\n",
      "=================================================================\n",
      "17 Mount-2/projects/RDP_Outlier_Analysis/RDP_Sensitivity_Analysis/Obfuscating_Taxa/Dorea/Adverserial_Trained_1534_3523_4814_2434-seq212_p=7_d=12_pos=102-Ruminococcus2-Dorea.tax.out\n",
      "=================================================================\n",
      "18 Mount-2/projects/RDP_Outlier_Analysis/RDP_Sensitivity_Analysis/Obfuscating_Taxa/Dorea/Adverserial_Trained_4618_3681_901_1067-seq395_p=9_d=17_pos=261-Blautia-Dorea.tax.out\n",
      "=================================================================\n",
      "19 Mount-2/projects/RDP_Outlier_Analysis/RDP_Sensitivity_Analysis/Obfuscating_Taxa/Dorea/Adverserial_Trained_6198_1233_7327_457-seq30_p=1_d=28_pos=87-Lachnospira-Dorea.tax.out\n",
      "=================================================================\n",
      "20 Mount-2/projects/RDP_Outlier_Analysis/RDP_Sensitivity_Analysis/Obfuscating_Taxa/Dorea/Adverserial_Trained_1534_3523_3531_803-seq221_p=7_d=9_pos=449-Ruminococcus2-Dorea.tax.out\n",
      "=================================================================\n",
      "21 Mount-2/projects/RDP_Outlier_Analysis/RDP_Sensitivity_Analysis/Obfuscating_Taxa/Dorea/Adverserial_Trained_147_4064_4814_2434-seq266_p=5_d=28_pos=429-Lachnospira-Dorea.tax.out\n",
      "=================================================================\n",
      "22 Mount-2/projects/RDP_Outlier_Analysis/RDP_Sensitivity_Analysis/Obfuscating_Taxa/Dorea/Adverserial_Trained_6198_1233_3531_803-seq266_p=5_d=28_pos=434-Lachnospira-Dorea.tax.out\n",
      "=================================================================\n",
      "23 Mount-2/projects/RDP_Outlier_Analysis/RDP_Sensitivity_Analysis/Obfuscating_Taxa/Dorea/Adverserial_Trained_6198_1233_4814_2434-seq319_p=6_d=27_pos=329-Lachnospira-Dorea.tax.out\n",
      "=================================================================\n",
      "24 Mount-2/projects/RDP_Outlier_Analysis/RDP_Sensitivity_Analysis/Obfuscating_Taxa/Dorea/Adverserial_Trained_3623_1667_3132_5806-seq467_p=8_d=10_pos=444-Blautia-Dorea.tax.out\n",
      "=================================================================\n"
     ]
    }
   ],
   "source": [
    "data_dir = 'Mount-2/projects/RDP_Outlier_Analysis/RDP_Sensitivity_Analysis/Obfuscating_Taxa/Dorea/'\n",
    "df_summary = Summarize_Label_Flips_Driver(data_dir, df_wo_adv, cutoff = 25 )"
   ]
  },
  {
   "cell_type": "code",
   "execution_count": 37,
   "metadata": {},
   "outputs": [
    {
     "name": "stdout",
     "output_type": "stream",
     "text": [
      "                                           GB  Count  Avg_Delta\n",
      "Seq-ID    Label of Artificial Sequence                         \n",
      "3132_5806 Agathobacter                  Dorea      6       39.0\n",
      "          Anaerobutyricum               Dorea      1       52.0\n",
      "          Anaerostipes                  Dorea      2       38.5\n",
      "          Anaerotignum                  Dorea      1       69.0\n",
      "          Blautia                       Dorea      5       52.8\n"
     ]
    }
   ],
   "source": [
    "df_delta = pd.read_csv('Mount-2/projects/RDP_Outlier_Analysis/Distance_to_Decision_Boundary.txt', sep = \"\\t\")\n",
    "df_delta = df_delta[df_delta['GB']=='Dorea']\n",
    "df_dorea = df_delta.groupby(['SB','GA','GB']).agg({'F':'count', 'DB':'mean'})\n",
    "df_dorea = df_dorea.reset_index()\n",
    "df_dorea = df_dorea.rename(columns = {'F':'Count', 'DB':'Avg_Delta',\n",
    "                                      'GA':'Label of Artificial Sequence','SB':'Seq-ID'})\n",
    "df_dorea = df_dorea.set_index(['Seq-ID' ,'Label of Artificial Sequence'])\n",
    "print(df_dorea.head())"
   ]
  },
  {
   "cell_type": "code",
   "execution_count": 47,
   "metadata": {},
   "outputs": [
    {
     "name": "stderr",
     "output_type": "stream",
     "text": [
      "/Users/harihara/anaconda3/lib/python3.7/site-packages/pandas/core/groupby/groupby.py:1309: FutureWarning: Dropping of nuisance columns in DataFrame reductions (with 'numeric_only=None') is deprecated; in a future version this will raise TypeError.  Select only valid columns before calling the reduction.\n",
      "  keys, values, mutated = self.grouper.apply(f, data, self.axis)\n"
     ]
    }
   ],
   "source": [
    "df_sel = df_summary.loc[df_summary.groupby(['Seq-ID']).idxmin().Num_Artificial_Sequences].copy()\n",
    "df_sel = df_sel.set_index(['Seq-ID' ,'Label of Artificial Sequence'])\n",
    "df_sel = df_sel.join(df_dorea[['Avg_Delta']])\n",
    "df_sel = df_sel.rename(columns = {'G-ADV':'New Label', 'G-WO_ADV':'Original Label', \n",
    "                                  'Num_Artificial_Sequences':'Minimum Number of Transitive Annotations Needed Change Labels',\n",
    "                                  'Avg_Delta':'Average Distance to the Decision Boundary'})\n",
    "df_sel = df_sel.reset_index().set_index(['Seq-ID'])\n",
    "df_sel = df_sel.sort_values(by = ['Average Distance to the Decision Boundary'])"
   ]
  },
  {
   "cell_type": "code",
   "execution_count": 49,
   "metadata": {},
   "outputs": [],
   "source": [
    "df_sel = df_sel[['Original Label','New Label', 'Label of Artificial Sequence',\n",
    "                 'Minimum Number of Transitive Annotations Needed Change Labels',\n",
    "                 'Average Distance to the Decision Boundary']]\n",
    "df_sel.to_excel('Dorea-Supplementary-Table.xlsx')"
   ]
  },
  {
   "cell_type": "code",
   "execution_count": null,
   "metadata": {},
   "outputs": [],
   "source": []
  }
 ],
 "metadata": {
  "kernelspec": {
   "display_name": "Python 3",
   "language": "python",
   "name": "python3"
  },
  "language_info": {
   "codemirror_mode": {
    "name": "ipython",
    "version": 3
   },
   "file_extension": ".py",
   "mimetype": "text/x-python",
   "name": "python",
   "nbconvert_exporter": "python",
   "pygments_lexer": "ipython3",
   "version": "3.7.3"
  }
 },
 "nbformat": 4,
 "nbformat_minor": 2
}
