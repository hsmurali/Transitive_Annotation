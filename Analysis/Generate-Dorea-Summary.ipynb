{
 "cells": [
  {
   "cell_type": "code",
   "execution_count": null,
   "metadata": {},
   "outputs": [],
   "source": [
    "import sys\n",
    "sys.path.append(\"../Experiments/Utils/\")\n",
    "from Utils_Transitive_Annotation import *\n",
    "\n",
    "def Summarize_Label_Flips(df_wo_adv, df_adv, label_Adversarial_Seq, label):\n",
    "    df_adv = df_adv[['genus']].rename(columns = {'genus':'G-ADV'})\n",
    "    df_adv = df_adv.join(df_wo_adv)\n",
    "    df_filter = df_adv.loc[(df_adv['G-ADV']!=label) & (df_adv['G-WO_ADV']==label)]\n",
    "    df_filter['Label of Artificial Sequence'] = label_Adversarial_Seq\n",
    "    return df_filter.reset_index()\n",
    "\n",
    "def Summarize_Label_Flips_Driver(data_dir, df_wo_adv, label = 'Dorea', cutoff = 100):\n",
    "    lines = open(data_dir+'summary').readlines()\n",
    "    summary = []\n",
    "    for d in lines:\n",
    "        try: summary.append(eval(d.replace(' nan','-1')))\n",
    "        except NameError: pass\n",
    "    df_summary = pd.DataFrame(summary)\n",
    "    artificial_sequences = df_summary['SeqID'].tolist()\n",
    "    out = pd.DataFrame()\n",
    "    \n",
    "    for i in range(0, cutoff):\n",
    "        f = data_dir+'Adverserial_Trained_'+artificial_sequences[i]+'.tax.out'\n",
    "        print(i, f)\n",
    "        label_artificial_seq = artificial_sequences[i].split(\"-\")[-2]\n",
    "        df_adv = Parse_RDP_Output(f)\n",
    "        df_sel = Summarize_Label_Flips(df_wo_adv, df_adv, label_artificial_seq, label)\n",
    "        df_sel['Num_Artificial_Sequences'] = i+1\n",
    "        out = out.append(df_sel, ignore_index = True)\n",
    "        print(\"=================================================================\")\n",
    "    return out"
   ]
  },
  {
   "cell_type": "code",
   "execution_count": null,
   "metadata": {},
   "outputs": [],
   "source": [
    "df_wo_adv = Parse_RDP_Output('Mount-2/projects/RDP_Outlier_Analysis/Gates_Dataset_Experiments/All3000.final.centers.out')\n",
    "df_wo_adv = df_wo_adv[['genus']].rename(columns = {'genus':'G-WO_ADV'})"
   ]
  },
  {
   "cell_type": "code",
   "execution_count": null,
   "metadata": {
    "scrolled": true
   },
   "outputs": [],
   "source": [
    "data_dir = 'Mount-2/projects/RDP_Outlier_Analysis/RDP_Sensitivity_Analysis/Obfuscating_Taxa/Dorea/'\n",
    "df_summary = Summarize_Label_Flips_Driver(data_dir, df_wo_adv, cutoff = 25 )"
   ]
  },
  {
   "cell_type": "code",
   "execution_count": null,
   "metadata": {},
   "outputs": [],
   "source": [
    "df_delta = pd.read_csv('Mount-2/projects/RDP_Outlier_Analysis/Distance_to_Decision_Boundary.txt', sep = \"\\t\")\n",
    "df_delta = df_delta[df_delta['GB']=='Dorea']\n",
    "df_dorea = df_delta.groupby(['SB','GA','GB']).agg({'F':'count', 'DB':'mean'})\n",
    "df_dorea = df_dorea.reset_index()\n",
    "df_dorea = df_dorea.rename(columns = {'F':'Count', 'DB':'Avg_Delta',\n",
    "                                      'GA':'Label of Artificial Sequence','SB':'Seq-ID'})\n",
    "df_dorea = df_dorea.set_index(['Seq-ID' ,'Label of Artificial Sequence'])\n",
    "print(df_dorea.head())"
   ]
  },
  {
   "cell_type": "code",
   "execution_count": null,
   "metadata": {},
   "outputs": [],
   "source": [
    "df_sel = df_summary.loc[df_summary.groupby(['Seq-ID']).idxmin().Num_Artificial_Sequences].copy()\n",
    "df_sel = df_sel.set_index(['Seq-ID' ,'Label of Artificial Sequence'])\n",
    "df_sel = df_sel.join(df_dorea[['Avg_Delta']])\n",
    "df_sel = df_sel.rename(columns = {'G-ADV':'New Label', 'G-WO_ADV':'Original Label', \n",
    "                                  'Num_Artificial_Sequences':'Minimum Number of Transitive Annotations Needed Change Labels',\n",
    "                                  'Avg_Delta':'Average Distance to the Decision Boundary'})\n",
    "df_sel = df_sel.reset_index().set_index(['Seq-ID'])\n",
    "df_sel = df_sel.sort_values(by = ['Average Distance to the Decision Boundary'])"
   ]
  },
  {
   "cell_type": "code",
   "execution_count": null,
   "metadata": {},
   "outputs": [],
   "source": [
    "df_sel = df_sel[['Original Label','New Label', 'Label of Artificial Sequence',\n",
    "                 'Minimum Number of Transitive Annotations Needed Change Labels',\n",
    "                 'Average Distance to the Decision Boundary']]\n",
    "df_sel.to_excel('Dorea-Supplementary-Table.xlsx')"
   ]
  },
  {
   "cell_type": "code",
   "execution_count": null,
   "metadata": {},
   "outputs": [],
   "source": []
  }
 ],
 "metadata": {
  "kernelspec": {
   "display_name": "Python 3",
   "language": "python",
   "name": "python3"
  },
  "language_info": {
   "codemirror_mode": {
    "name": "ipython",
    "version": 3
   },
   "file_extension": ".py",
   "mimetype": "text/x-python",
   "name": "python",
   "nbconvert_exporter": "python",
   "pygments_lexer": "ipython3",
   "version": "3.7.3"
  }
 },
 "nbformat": 4,
 "nbformat_minor": 2
}
