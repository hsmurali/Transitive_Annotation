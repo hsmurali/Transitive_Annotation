{
 "cells": [
  {
   "cell_type": "code",
   "execution_count": 2,
   "metadata": {},
   "outputs": [],
   "source": [
    "import sys\n",
    "sys.path.append(\"../Experiments/Utils/\")\n",
    "from Utils_Transitive_Annotation import *\n",
    "\n",
    "data_dir = '/Users/harihara/Mount-2/projects/RDP_Outlier_Analysis/RDP_Sensitivity_Analysis/\\\n",
    "Adversarial_DB_All_Seqs/Streptococcus_Lactococcus/'\n",
    "non_adv_taxa = '/Users/harihara/Mount-2/projects/RDP_Outlier_Analysis/All3000.final.centers.out'\n",
    "df_wo_adv = Parse_RDP_Output(non_adv_taxa)\n",
    "df_wo_adv = df_wo_adv[['genus','p-genus']].rename(columns = {'genus':'genus(wo-adv)', \n",
    "                                                             'p-genus':'p-genus(wo-adv)'})\n",
    "samples = listdir(data_dir)\n",
    "\n",
    "Taxa_Path = '/Users/harihara/Mount-2/projects/RDP_Outlier_Analysis/RDP_Database/Taxa.List'\n",
    "Taxa = Extract_Taxonomic_Annotation(open(Taxa_Path).readlines())\n",
    "Taxa_Counts, Taxa_Dict = Load_Taxa_Information(open(Taxa_Path).readlines())"
   ]
  },
  {
   "cell_type": "code",
   "execution_count": 11,
   "metadata": {
    "scrolled": false
   },
   "outputs": [
    {
     "name": "stdout",
     "output_type": "stream",
     "text": [
      "['Lachnospiracea_incertae_sedis']\n",
      "ClostridiumXlVa 6 0.14 0.14 1\n",
      "['ClostridiumXlVa']\n",
      "Lachnospiracea_incertae_sedis 7 0.34 0.34 1\n",
      "['Streptococcus']\n",
      "Haloplasma 50 0.15 0.15 1\n",
      "['Ligilactobacillus']\n",
      "Pilibacter 7 0.17 0.17 1\n"
     ]
    }
   ],
   "source": [
    "strp_ctr = 0\n",
    "all_ctr = 0\n",
    "for s in samples:\n",
    "    if s.endswith(\".tax.out\"):\n",
    "        df_adv = Parse_RDP_Output(data_dir+s)\n",
    "        df_adv = df_adv[['genus', 'p-genus']].rename(columns = {'genus':'genus(adv)', 'p-genus':'p-genus(adv)'})\n",
    "        df = df_wo_adv.join(df_adv)\n",
    "        df['Diff'] = df.apply(Diff, axis = 1)\n",
    "        df_filt = df[df['Diff'] == 1]\n",
    "        uniq_seqs = df_filt['genus(adv)'].unique()\n",
    "        \n",
    "        for u in uniq_seqs:\n",
    "            T = df_filt[df_filt['genus(adv)'] == u]\n",
    "            if u != 'Streptococcus':\n",
    "                print(T['genus(wo-adv)'].unique())\n",
    "                print(u, round(len(T)/len(df_filt)*100.0), \n",
    "                  T['p-genus(adv)'].mean(), T['p-genus(adv)'].max(), \n",
    "                  len(T))\n",
    "            if u == 'Streptococcus':\n",
    "                strp_ctr += len(T)\n",
    "        all_ctr += len(df_filt)\n"
   ]
  },
  {
   "cell_type": "code",
   "execution_count": 12,
   "metadata": {},
   "outputs": [
    {
     "data": {
      "text/plain": [
       "112435"
      ]
     },
     "execution_count": 12,
     "metadata": {},
     "output_type": "execute_result"
    }
   ],
   "source": [
    "len(df_wo_adv)"
   ]
  },
  {
   "cell_type": "code",
   "execution_count": null,
   "metadata": {},
   "outputs": [],
   "source": []
  }
 ],
 "metadata": {
  "kernelspec": {
   "display_name": "Python 3",
   "language": "python",
   "name": "python3"
  },
  "language_info": {
   "codemirror_mode": {
    "name": "ipython",
    "version": 3
   },
   "file_extension": ".py",
   "mimetype": "text/x-python",
   "name": "python",
   "nbconvert_exporter": "python",
   "pygments_lexer": "ipython3",
   "version": "3.7.3"
  }
 },
 "nbformat": 4,
 "nbformat_minor": 2
}
